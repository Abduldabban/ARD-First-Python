{
 "cells": [
  {
   "cell_type": "markdown",
   "id": "b11fd240",
   "metadata": {},
   "source": [
    "# Week 3 Mini Project 2: Product Demand Forecasts"
   ]
  },
  {
   "cell_type": "code",
   "execution_count": 1,
   "id": "2a60624d",
   "metadata": {},
   "outputs": [],
   "source": [
    "# Just to ignore warnings\n",
    "\n",
    "import warnings\n",
    "warnings.filterwarnings('ignore')"
   ]
  },
  {
   "cell_type": "markdown",
   "id": "74040afb",
   "metadata": {},
   "source": [
    "# 1. Download the Dataset\n",
    "\n",
    "Download the Dataset from the following link: \\\n",
    "https://www.kaggle.com/felixzhao/productdemandforecasting\n"
   ]
  },
  {
   "cell_type": "markdown",
   "id": "ff7f1316",
   "metadata": {},
   "source": [
    "# 2. Read the Dataset\n",
    "\n",
    "Read the dataset into a Pandas Dataframe.\\"
   ]
  },
  {
   "cell_type": "code",
   "execution_count": 2,
   "id": "ff49e9ee",
   "metadata": {
    "scrolled": false
   },
   "outputs": [
    {
     "name": "stdout",
     "output_type": "stream",
     "text": [
      "Initial dataset length:  1048575\n"
     ]
    },
    {
     "data": {
      "text/html": [
       "<div>\n",
       "<style scoped>\n",
       "    .dataframe tbody tr th:only-of-type {\n",
       "        vertical-align: middle;\n",
       "    }\n",
       "\n",
       "    .dataframe tbody tr th {\n",
       "        vertical-align: top;\n",
       "    }\n",
       "\n",
       "    .dataframe thead th {\n",
       "        text-align: right;\n",
       "    }\n",
       "</style>\n",
       "<table border=\"1\" class=\"dataframe\">\n",
       "  <thead>\n",
       "    <tr style=\"text-align: right;\">\n",
       "      <th></th>\n",
       "      <th>Product_Code</th>\n",
       "      <th>Warehouse</th>\n",
       "      <th>Product_Category</th>\n",
       "      <th>Date</th>\n",
       "      <th>Order_Demand</th>\n",
       "    </tr>\n",
       "  </thead>\n",
       "  <tbody>\n",
       "    <tr>\n",
       "      <th>0</th>\n",
       "      <td>Product_0993</td>\n",
       "      <td>Whse_J</td>\n",
       "      <td>Category_028</td>\n",
       "      <td>2012/7/27</td>\n",
       "      <td>100</td>\n",
       "    </tr>\n",
       "    <tr>\n",
       "      <th>1</th>\n",
       "      <td>Product_0979</td>\n",
       "      <td>Whse_J</td>\n",
       "      <td>Category_028</td>\n",
       "      <td>2012/1/19</td>\n",
       "      <td>500</td>\n",
       "    </tr>\n",
       "    <tr>\n",
       "      <th>2</th>\n",
       "      <td>Product_0979</td>\n",
       "      <td>Whse_J</td>\n",
       "      <td>Category_028</td>\n",
       "      <td>2012/2/3</td>\n",
       "      <td>500</td>\n",
       "    </tr>\n",
       "    <tr>\n",
       "      <th>3</th>\n",
       "      <td>Product_0979</td>\n",
       "      <td>Whse_J</td>\n",
       "      <td>Category_028</td>\n",
       "      <td>2012/2/9</td>\n",
       "      <td>500</td>\n",
       "    </tr>\n",
       "    <tr>\n",
       "      <th>4</th>\n",
       "      <td>Product_0979</td>\n",
       "      <td>Whse_J</td>\n",
       "      <td>Category_028</td>\n",
       "      <td>2012/3/2</td>\n",
       "      <td>500</td>\n",
       "    </tr>\n",
       "    <tr>\n",
       "      <th>...</th>\n",
       "      <td>...</td>\n",
       "      <td>...</td>\n",
       "      <td>...</td>\n",
       "      <td>...</td>\n",
       "      <td>...</td>\n",
       "    </tr>\n",
       "    <tr>\n",
       "      <th>1048570</th>\n",
       "      <td>Product_1791</td>\n",
       "      <td>Whse_J</td>\n",
       "      <td>Category_006</td>\n",
       "      <td>2016/4/27</td>\n",
       "      <td>1000</td>\n",
       "    </tr>\n",
       "    <tr>\n",
       "      <th>1048571</th>\n",
       "      <td>Product_1974</td>\n",
       "      <td>Whse_J</td>\n",
       "      <td>Category_006</td>\n",
       "      <td>2016/4/27</td>\n",
       "      <td>1</td>\n",
       "    </tr>\n",
       "    <tr>\n",
       "      <th>1048572</th>\n",
       "      <td>Product_1787</td>\n",
       "      <td>Whse_J</td>\n",
       "      <td>Category_006</td>\n",
       "      <td>2016/4/28</td>\n",
       "      <td>2500</td>\n",
       "    </tr>\n",
       "    <tr>\n",
       "      <th>1048573</th>\n",
       "      <td>Product_0901</td>\n",
       "      <td>Whse_J</td>\n",
       "      <td>Category_023</td>\n",
       "      <td>2016/10/7</td>\n",
       "      <td>50</td>\n",
       "    </tr>\n",
       "    <tr>\n",
       "      <th>1048574</th>\n",
       "      <td>Product_0704</td>\n",
       "      <td>Whse_J</td>\n",
       "      <td>Category_001</td>\n",
       "      <td>2016/6/27</td>\n",
       "      <td>4</td>\n",
       "    </tr>\n",
       "  </tbody>\n",
       "</table>\n",
       "<p>1048575 rows × 5 columns</p>\n",
       "</div>"
      ],
      "text/plain": [
       "         Product_Code Warehouse Product_Category       Date Order_Demand\n",
       "0        Product_0993    Whse_J     Category_028  2012/7/27         100 \n",
       "1        Product_0979    Whse_J     Category_028  2012/1/19         500 \n",
       "2        Product_0979    Whse_J     Category_028   2012/2/3         500 \n",
       "3        Product_0979    Whse_J     Category_028   2012/2/9         500 \n",
       "4        Product_0979    Whse_J     Category_028   2012/3/2         500 \n",
       "...               ...       ...              ...        ...          ...\n",
       "1048570  Product_1791    Whse_J     Category_006  2016/4/27        1000 \n",
       "1048571  Product_1974    Whse_J     Category_006  2016/4/27           1 \n",
       "1048572  Product_1787    Whse_J     Category_006  2016/4/28        2500 \n",
       "1048573  Product_0901    Whse_J     Category_023  2016/10/7          50 \n",
       "1048574  Product_0704    Whse_J     Category_001  2016/6/27           4 \n",
       "\n",
       "[1048575 rows x 5 columns]"
      ]
     },
     "execution_count": 2,
     "metadata": {},
     "output_type": "execute_result"
    }
   ],
   "source": [
    "import pandas as pd\n",
    "\n",
    "df = pd.read_csv('Historical Product Demand.csv')\n",
    "\n",
    "initial_length = len(df)\n",
    "\n",
    "print('Initial dataset length: ',initial_length)\n",
    "\n",
    "\n",
    "df"
   ]
  },
  {
   "cell_type": "markdown",
   "id": "23aa2ec9",
   "metadata": {},
   "source": [
    "Does the dataset include any missing values? If so, drop them. \\\n",
    "Hint: Pandas can do that with one line of code!"
   ]
  },
  {
   "cell_type": "code",
   "execution_count": 3,
   "id": "0395a247",
   "metadata": {},
   "outputs": [
    {
     "data": {
      "text/plain": [
       "Product_Code            0\n",
       "Warehouse               0\n",
       "Product_Category        0\n",
       "Date                11239\n",
       "Order_Demand            0\n",
       "dtype: int64"
      ]
     },
     "execution_count": 3,
     "metadata": {},
     "output_type": "execute_result"
    }
   ],
   "source": [
    "df.isna().sum(axis = 0)"
   ]
  },
  {
   "cell_type": "code",
   "execution_count": 4,
   "id": "c1a824ca",
   "metadata": {},
   "outputs": [
    {
     "name": "stdout",
     "output_type": "stream",
     "text": [
      "Total rows with missing dates =  11239\n"
     ]
    }
   ],
   "source": [
    "# Drop the missing values in the date column\n",
    "\n",
    "df.dropna(subset=['Date'], inplace = True)\n",
    "\n",
    "adjusted_date_length = len(df)\n",
    "\n",
    "print('Total rows with missing dates = ', initial_length - adjusted_date_length)"
   ]
  },
  {
   "cell_type": "code",
   "execution_count": 5,
   "id": "70e2af91",
   "metadata": {},
   "outputs": [
    {
     "data": {
      "text/html": [
       "<div>\n",
       "<style scoped>\n",
       "    .dataframe tbody tr th:only-of-type {\n",
       "        vertical-align: middle;\n",
       "    }\n",
       "\n",
       "    .dataframe tbody tr th {\n",
       "        vertical-align: top;\n",
       "    }\n",
       "\n",
       "    .dataframe thead th {\n",
       "        text-align: right;\n",
       "    }\n",
       "</style>\n",
       "<table border=\"1\" class=\"dataframe\">\n",
       "  <thead>\n",
       "    <tr style=\"text-align: right;\">\n",
       "      <th></th>\n",
       "      <th>Product_Code</th>\n",
       "      <th>Warehouse</th>\n",
       "      <th>Product_Category</th>\n",
       "      <th>Date</th>\n",
       "      <th>Order_Demand</th>\n",
       "    </tr>\n",
       "  </thead>\n",
       "  <tbody>\n",
       "    <tr>\n",
       "      <th>0</th>\n",
       "      <td>Product_0965</td>\n",
       "      <td>Whse_A</td>\n",
       "      <td>Category_006</td>\n",
       "      <td>2011/1/8</td>\n",
       "      <td>2</td>\n",
       "    </tr>\n",
       "    <tr>\n",
       "      <th>1</th>\n",
       "      <td>Product_0412</td>\n",
       "      <td>Whse_S</td>\n",
       "      <td>Category_007</td>\n",
       "      <td>2011/10/20</td>\n",
       "      <td>(2)</td>\n",
       "    </tr>\n",
       "    <tr>\n",
       "      <th>2</th>\n",
       "      <td>Product_0125</td>\n",
       "      <td>Whse_S</td>\n",
       "      <td>Category_011</td>\n",
       "      <td>2011/10/20</td>\n",
       "      <td>(2)</td>\n",
       "    </tr>\n",
       "    <tr>\n",
       "      <th>3</th>\n",
       "      <td>Product_0642</td>\n",
       "      <td>Whse_C</td>\n",
       "      <td>Category_019</td>\n",
       "      <td>2011/10/31</td>\n",
       "      <td>3</td>\n",
       "    </tr>\n",
       "    <tr>\n",
       "      <th>4</th>\n",
       "      <td>Product_2137</td>\n",
       "      <td>Whse_S</td>\n",
       "      <td>Category_009</td>\n",
       "      <td>2011/11/18</td>\n",
       "      <td>(25)</td>\n",
       "    </tr>\n",
       "  </tbody>\n",
       "</table>\n",
       "</div>"
      ],
      "text/plain": [
       "   Product_Code Warehouse Product_Category        Date Order_Demand\n",
       "0  Product_0965    Whse_A     Category_006    2011/1/8           2 \n",
       "1  Product_0412    Whse_S     Category_007  2011/10/20          (2)\n",
       "2  Product_0125    Whse_S     Category_011  2011/10/20          (2)\n",
       "3  Product_0642    Whse_C     Category_019  2011/10/31           3 \n",
       "4  Product_2137    Whse_S     Category_009  2011/11/18         (25)"
      ]
     },
     "execution_count": 5,
     "metadata": {},
     "output_type": "execute_result"
    }
   ],
   "source": [
    "# sort the data according to date column\n",
    "df.sort_values('Date', ignore_index=True, inplace=True)\n",
    "df.head()"
   ]
  },
  {
   "cell_type": "code",
   "execution_count": 6,
   "id": "0bd8760a",
   "metadata": {},
   "outputs": [
    {
     "name": "stdout",
     "output_type": "stream",
     "text": [
      "<class 'pandas.core.frame.DataFrame'>\n",
      "RangeIndex: 1037336 entries, 0 to 1037335\n",
      "Data columns (total 5 columns):\n",
      " #   Column            Non-Null Count    Dtype \n",
      "---  ------            --------------    ----- \n",
      " 0   Product_Code      1037336 non-null  object\n",
      " 1   Warehouse         1037336 non-null  object\n",
      " 2   Product_Category  1037336 non-null  object\n",
      " 3   Date              1037336 non-null  object\n",
      " 4   Order_Demand      1037336 non-null  object\n",
      "dtypes: object(5)\n",
      "memory usage: 39.6+ MB\n"
     ]
    }
   ],
   "source": [
    "df.info()"
   ]
  },
  {
   "cell_type": "code",
   "execution_count": 7,
   "id": "3ed0a7fd",
   "metadata": {},
   "outputs": [],
   "source": [
    "# Clearly there are negative numbers in Order_Demand column. Two ways to solve this problem:\n",
    "# 1- Remove those rows and check. If they are small number compared to total rows then we are good.\n",
    "# 2- Assume  an order amount entered as negative - within parenthesis by mistake. Thus just replace the parenthesis\n",
    "\n",
    "# Also, Order_Demand has data type 'Object'"
   ]
  },
  {
   "cell_type": "code",
   "execution_count": 8,
   "id": "831ec19a",
   "metadata": {},
   "outputs": [
    {
     "name": "stdout",
     "output_type": "stream",
     "text": [
      "Total rows with parenthesis Order_Demand =  5899\n"
     ]
    }
   ],
   "source": [
    "# 1- Remove rows with parenthesis\n",
    "\n",
    "df.drop(df[df['Order_Demand'].str.startswith(\"(\")].index, inplace = True)\n",
    "\n",
    "# Convert the datatype of Order_Demand from Object to Integer\n",
    "df.Order_Demand = df.Order_Demand.astype('int64')\n",
    "\n",
    "OD_adjusted_length = len(df)\n",
    "\n",
    "print('Total rows with parenthesis Order_Demand = ', adjusted_date_length-OD_adjusted_length)"
   ]
  },
  {
   "cell_type": "code",
   "execution_count": 9,
   "id": "3314e0e9",
   "metadata": {},
   "outputs": [],
   "source": [
    "# Only 5899 rows out of over a million row dataset. Thus I choose to remove the rows with parenthisis\n",
    "\n",
    "# 2- Remove parenthesis and set Order_Demand data type to Int\n",
    "\n",
    "#df['Order_Demand']=df['Order_Demand'].str.replace('(',\"\").str.replace(')',\"\").astype(int)\n",
    "\n",
    "#df"
   ]
  },
  {
   "cell_type": "code",
   "execution_count": 10,
   "id": "19807454",
   "metadata": {},
   "outputs": [
    {
     "name": "stdout",
     "output_type": "stream",
     "text": [
      "<class 'pandas.core.frame.DataFrame'>\n",
      "Int64Index: 1031437 entries, 0 to 1037335\n",
      "Data columns (total 5 columns):\n",
      " #   Column            Non-Null Count    Dtype \n",
      "---  ------            --------------    ----- \n",
      " 0   Product_Code      1031437 non-null  object\n",
      " 1   Warehouse         1031437 non-null  object\n",
      " 2   Product_Category  1031437 non-null  object\n",
      " 3   Date              1031437 non-null  object\n",
      " 4   Order_Demand      1031437 non-null  int64 \n",
      "dtypes: int64(1), object(4)\n",
      "memory usage: 47.2+ MB\n"
     ]
    }
   ],
   "source": [
    "df.info()"
   ]
  },
  {
   "cell_type": "code",
   "execution_count": 11,
   "id": "375695c3",
   "metadata": {},
   "outputs": [
    {
     "data": {
      "text/plain": [
       "count    1.031437e+06\n",
       "mean     4.962992e+03\n",
       "std      2.911306e+04\n",
       "min      0.000000e+00\n",
       "25%      2.000000e+01\n",
       "50%      3.000000e+02\n",
       "75%      2.000000e+03\n",
       "max      4.000000e+06\n",
       "Name: Order_Demand, dtype: float64"
      ]
     },
     "execution_count": 11,
     "metadata": {},
     "output_type": "execute_result"
    }
   ],
   "source": [
    "df.Order_Demand.describe()"
   ]
  },
  {
   "cell_type": "markdown",
   "id": "79d19ea0",
   "metadata": {},
   "source": [
    "# 3. Extract Features\n",
    "\n",
    "Exclude the region and date from the considered features.\\\n",
    "Hint: You can choose to use all the features.\n"
   ]
  },
  {
   "cell_type": "code",
   "execution_count": 12,
   "id": "4e00cc2d",
   "metadata": {},
   "outputs": [
    {
     "data": {
      "text/html": [
       "<div>\n",
       "<style scoped>\n",
       "    .dataframe tbody tr th:only-of-type {\n",
       "        vertical-align: middle;\n",
       "    }\n",
       "\n",
       "    .dataframe tbody tr th {\n",
       "        vertical-align: top;\n",
       "    }\n",
       "\n",
       "    .dataframe thead th {\n",
       "        text-align: right;\n",
       "    }\n",
       "</style>\n",
       "<table border=\"1\" class=\"dataframe\">\n",
       "  <thead>\n",
       "    <tr style=\"text-align: right;\">\n",
       "      <th></th>\n",
       "      <th>Product_Code</th>\n",
       "      <th>Product_Category</th>\n",
       "      <th>Order_Demand</th>\n",
       "    </tr>\n",
       "  </thead>\n",
       "  <tbody>\n",
       "    <tr>\n",
       "      <th>0</th>\n",
       "      <td>Product_0965</td>\n",
       "      <td>Category_006</td>\n",
       "      <td>2</td>\n",
       "    </tr>\n",
       "    <tr>\n",
       "      <th>3</th>\n",
       "      <td>Product_0642</td>\n",
       "      <td>Category_019</td>\n",
       "      <td>3</td>\n",
       "    </tr>\n",
       "    <tr>\n",
       "      <th>9</th>\n",
       "      <td>Product_0980</td>\n",
       "      <td>Category_028</td>\n",
       "      <td>4000</td>\n",
       "    </tr>\n",
       "    <tr>\n",
       "      <th>10</th>\n",
       "      <td>Product_0965</td>\n",
       "      <td>Category_006</td>\n",
       "      <td>1</td>\n",
       "    </tr>\n",
       "    <tr>\n",
       "      <th>11</th>\n",
       "      <td>Product_0965</td>\n",
       "      <td>Category_006</td>\n",
       "      <td>3</td>\n",
       "    </tr>\n",
       "    <tr>\n",
       "      <th>...</th>\n",
       "      <td>...</td>\n",
       "      <td>...</td>\n",
       "      <td>...</td>\n",
       "    </tr>\n",
       "    <tr>\n",
       "      <th>1037331</th>\n",
       "      <td>Product_0689</td>\n",
       "      <td>Category_011</td>\n",
       "      <td>200</td>\n",
       "    </tr>\n",
       "    <tr>\n",
       "      <th>1037332</th>\n",
       "      <td>Product_1970</td>\n",
       "      <td>Category_005</td>\n",
       "      <td>2000</td>\n",
       "    </tr>\n",
       "    <tr>\n",
       "      <th>1037333</th>\n",
       "      <td>Product_1904</td>\n",
       "      <td>Category_019</td>\n",
       "      <td>4000</td>\n",
       "    </tr>\n",
       "    <tr>\n",
       "      <th>1037334</th>\n",
       "      <td>Product_0471</td>\n",
       "      <td>Category_015</td>\n",
       "      <td>30</td>\n",
       "    </tr>\n",
       "    <tr>\n",
       "      <th>1037335</th>\n",
       "      <td>Product_0250</td>\n",
       "      <td>Category_007</td>\n",
       "      <td>148</td>\n",
       "    </tr>\n",
       "  </tbody>\n",
       "</table>\n",
       "<p>1031437 rows × 3 columns</p>\n",
       "</div>"
      ],
      "text/plain": [
       "         Product_Code Product_Category  Order_Demand\n",
       "0        Product_0965     Category_006             2\n",
       "3        Product_0642     Category_019             3\n",
       "9        Product_0980     Category_028          4000\n",
       "10       Product_0965     Category_006             1\n",
       "11       Product_0965     Category_006             3\n",
       "...               ...              ...           ...\n",
       "1037331  Product_0689     Category_011           200\n",
       "1037332  Product_1970     Category_005          2000\n",
       "1037333  Product_1904     Category_019          4000\n",
       "1037334  Product_0471     Category_015            30\n",
       "1037335  Product_0250     Category_007           148\n",
       "\n",
       "[1031437 rows x 3 columns]"
      ]
     },
     "execution_count": 12,
     "metadata": {},
     "output_type": "execute_result"
    }
   ],
   "source": [
    "df.drop(['Date', 'Warehouse'], axis = 1, inplace = True)\n",
    "df"
   ]
  },
  {
   "attachments": {},
   "cell_type": "markdown",
   "id": "f0104a3c",
   "metadata": {},
   "source": [
    "# 4. Perform Preprocessing\n",
    "\n",
    "Perform any needed pre-processing on the chosen features including: \\\n",
    "• Scaling. \\\n",
    "• Encoding. \\\n",
    "Dealing with Nan values. \\\n",
    "\n",
    "Hint:\\\n",
    "Use only the preprocessing steps you think are useful."
   ]
  },
  {
   "cell_type": "code",
   "execution_count": 13,
   "id": "898e0b1a",
   "metadata": {},
   "outputs": [],
   "source": [
    "from sklearn.preprocessing import LabelEncoder\n",
    "df.Order_Demand = LabelEncoder().fit_transform(df.Order_Demand)"
   ]
  },
  {
   "cell_type": "code",
   "execution_count": 14,
   "id": "049e520a",
   "metadata": {},
   "outputs": [
    {
     "data": {
      "text/html": [
       "<div>\n",
       "<style scoped>\n",
       "    .dataframe tbody tr th:only-of-type {\n",
       "        vertical-align: middle;\n",
       "    }\n",
       "\n",
       "    .dataframe tbody tr th {\n",
       "        vertical-align: top;\n",
       "    }\n",
       "\n",
       "    .dataframe thead th {\n",
       "        text-align: right;\n",
       "    }\n",
       "</style>\n",
       "<table border=\"1\" class=\"dataframe\">\n",
       "  <thead>\n",
       "    <tr style=\"text-align: right;\">\n",
       "      <th></th>\n",
       "      <th>Product_Code</th>\n",
       "      <th>Product_Category</th>\n",
       "      <th>Order_Demand</th>\n",
       "    </tr>\n",
       "  </thead>\n",
       "  <tbody>\n",
       "    <tr>\n",
       "      <th>0</th>\n",
       "      <td>954.0</td>\n",
       "      <td>5.0</td>\n",
       "      <td>2</td>\n",
       "    </tr>\n",
       "    <tr>\n",
       "      <th>3</th>\n",
       "      <td>641.0</td>\n",
       "      <td>18.0</td>\n",
       "      <td>3</td>\n",
       "    </tr>\n",
       "    <tr>\n",
       "      <th>9</th>\n",
       "      <td>969.0</td>\n",
       "      <td>27.0</td>\n",
       "      <td>1906</td>\n",
       "    </tr>\n",
       "    <tr>\n",
       "      <th>10</th>\n",
       "      <td>954.0</td>\n",
       "      <td>5.0</td>\n",
       "      <td>1</td>\n",
       "    </tr>\n",
       "    <tr>\n",
       "      <th>11</th>\n",
       "      <td>954.0</td>\n",
       "      <td>5.0</td>\n",
       "      <td>3</td>\n",
       "    </tr>\n",
       "    <tr>\n",
       "      <th>...</th>\n",
       "      <td>...</td>\n",
       "      <td>...</td>\n",
       "      <td>...</td>\n",
       "    </tr>\n",
       "    <tr>\n",
       "      <th>1037331</th>\n",
       "      <td>688.0</td>\n",
       "      <td>10.0</td>\n",
       "      <td>200</td>\n",
       "    </tr>\n",
       "    <tr>\n",
       "      <th>1037332</th>\n",
       "      <td>1958.0</td>\n",
       "      <td>4.0</td>\n",
       "      <td>1467</td>\n",
       "    </tr>\n",
       "    <tr>\n",
       "      <th>1037333</th>\n",
       "      <td>1892.0</td>\n",
       "      <td>18.0</td>\n",
       "      <td>1906</td>\n",
       "    </tr>\n",
       "    <tr>\n",
       "      <th>1037334</th>\n",
       "      <td>470.0</td>\n",
       "      <td>14.0</td>\n",
       "      <td>30</td>\n",
       "    </tr>\n",
       "    <tr>\n",
       "      <th>1037335</th>\n",
       "      <td>249.0</td>\n",
       "      <td>6.0</td>\n",
       "      <td>148</td>\n",
       "    </tr>\n",
       "  </tbody>\n",
       "</table>\n",
       "<p>1031437 rows × 3 columns</p>\n",
       "</div>"
      ],
      "text/plain": [
       "         Product_Code  Product_Category  Order_Demand\n",
       "0               954.0               5.0             2\n",
       "3               641.0              18.0             3\n",
       "9               969.0              27.0          1906\n",
       "10              954.0               5.0             1\n",
       "11              954.0               5.0             3\n",
       "...               ...               ...           ...\n",
       "1037331         688.0              10.0           200\n",
       "1037332        1958.0               4.0          1467\n",
       "1037333        1892.0              18.0          1906\n",
       "1037334         470.0              14.0            30\n",
       "1037335         249.0               6.0           148\n",
       "\n",
       "[1031437 rows x 3 columns]"
      ]
     },
     "execution_count": 14,
     "metadata": {},
     "output_type": "execute_result"
    }
   ],
   "source": [
    "# We can use Ordinal Encoder to encode the Product_Code and Product_Category\n",
    "\n",
    "from sklearn.preprocessing import OrdinalEncoder\n",
    "encoder=OrdinalEncoder()\n",
    "df[['Product_Code', 'Product_Category']] = encoder.fit_transform(df[['Product_Code', 'Product_Category']])\n",
    "df"
   ]
  },
  {
   "cell_type": "code",
   "execution_count": 15,
   "id": "b45c2718",
   "metadata": {},
   "outputs": [
    {
     "data": {
      "text/plain": [
       "array([[   5.,    2.],\n",
       "       [  18.,    3.],\n",
       "       [  27., 1906.],\n",
       "       ...,\n",
       "       [  18., 1906.],\n",
       "       [  14.,   30.],\n",
       "       [   6.,  148.]])"
      ]
     },
     "execution_count": 15,
     "metadata": {},
     "output_type": "execute_result"
    }
   ],
   "source": [
    "# assign attributues to X and y variables\n",
    "y = df.Order_Demand.values\n",
    "\n",
    "features = len(df.columns)\n",
    "X = df.iloc[:, 1:features].values\n",
    "X"
   ]
  },
  {
   "cell_type": "code",
   "execution_count": 16,
   "id": "81e953f8",
   "metadata": {},
   "outputs": [],
   "source": [
    "from sklearn.preprocessing import StandardScaler\n",
    "\n",
    "X_scaled = StandardScaler().fit_transform(X)"
   ]
  },
  {
   "cell_type": "markdown",
   "id": "46e6d6ac",
   "metadata": {},
   "source": [
    "# 5. Split the Data\n",
    "\n",
    "Split your data as follows: \\\n",
    "• 80% training set \\\n",
    "• 10% validation set \\\n",
    "• 10% test set"
   ]
  },
  {
   "cell_type": "code",
   "execution_count": 17,
   "id": "9aea1b71",
   "metadata": {},
   "outputs": [
    {
     "name": "stdout",
     "output_type": "stream",
     "text": [
      "825149 206288\n"
     ]
    }
   ],
   "source": [
    "from sklearn.model_selection import train_test_split\n",
    "\n",
    "X_train, X_test, y_train, y_test = train_test_split(X_scaled, y, test_size = 0.2, random_state = 0)\n",
    "print(len(X_train), len(X_test))"
   ]
  },
  {
   "cell_type": "code",
   "execution_count": 18,
   "id": "ccb03948",
   "metadata": {},
   "outputs": [
    {
     "name": "stdout",
     "output_type": "stream",
     "text": [
      "825149 103144 103144\n"
     ]
    }
   ],
   "source": [
    "X_validate, X_test, y_validate, y_test = train_test_split(X_test, y_test, test_size=0.5, random_state=0)\n",
    "print(len(X_train), len(X_test), len(X_validate))"
   ]
  },
  {
   "cell_type": "markdown",
   "id": "5171d0c4",
   "metadata": {},
   "source": [
    "# Training K-Nearest Neighbor (KNN) Regression\n",
    "\n",
    "Use a KNN regressor model to train your data.\n"
   ]
  },
  {
   "cell_type": "code",
   "execution_count": 19,
   "id": "220135c7",
   "metadata": {},
   "outputs": [
    {
     "name": "stdout",
     "output_type": "stream",
     "text": [
      "0.9999991449288744\n"
     ]
    }
   ],
   "source": [
    "from sklearn.neighbors import KNeighborsRegressor\n",
    "# Choose value of K\n",
    "K=2\n",
    "model=KNeighborsRegressor(n_neighbors=K)\n",
    "model.fit(X_train, y_train)\n",
    "    \n",
    "score = model.score(X_test,y_test)\n",
    "print(score)"
   ]
  },
  {
   "cell_type": "markdown",
   "id": "845a9e44",
   "metadata": {},
   "source": [
    "Choose the best k for the KNN algorithm by trying different values and validating performance on the validation set."
   ]
  },
  {
   "cell_type": "code",
   "execution_count": 20,
   "id": "a4812924",
   "metadata": {},
   "outputs": [
    {
     "name": "stdout",
     "output_type": "stream",
     "text": [
      "1 gives a score of: 0.9999993982600149\n",
      "2 gives a score of: 0.9999991449288744\n",
      "3 gives a score of: 0.9999992539315983\n",
      "KNN Regression gives a score of: 0.9999993982600149 with 1 neighbors.\n"
     ]
    }
   ],
   "source": [
    "scores = []\n",
    "score = 0\n",
    "best_score = 0\n",
    "\n",
    "K = range(1,4)\n",
    "\n",
    "for i in K:\n",
    "    modelKNN = KNeighborsRegressor(n_neighbors = i).fit(X_train, y_train)\n",
    "    \n",
    "    score = modelKNN.score(X_test, y_test)\n",
    "    score = score\n",
    "    scores.append(score)\n",
    "    \n",
    "    # Optionally we can run the below code instead\n",
    "    if score > best_score :\n",
    "        best_score = score\n",
    "        bestK = i\n",
    "        best_model = modelKNN # key advantage to the below code is saving the model\n",
    "    \n",
    "    print(i, \"gives a score of:\", score)\n",
    "    \n",
    "best_score = max(scores)\n",
    "bestK = scores.index(best_score) + 1\n",
    "\n",
    "print(\"KNN Regression gives a score of:\", best_score, \"with\", bestK, \"neighbors.\") "
   ]
  },
  {
   "cell_type": "code",
   "execution_count": 22,
   "id": "9c431240",
   "metadata": {},
   "outputs": [
    {
     "name": "stdout",
     "output_type": "stream",
     "text": [
      "Accuracy of the best model =  0.9999975888471765\n"
     ]
    }
   ],
   "source": [
    "# Using the best model n_neighbors = 4\n",
    "# best_model = KNeighborsRegressor(n_neighbors = 4).fit(X_train, y_train)\n",
    "\n",
    "# Alternatively using the best_model acquired from the if statement\n",
    "accuracy = best_model.score(X_validate, y_validate)\n",
    "print('Accuracy of the best model = ', accuracy)"
   ]
  },
  {
   "cell_type": "markdown",
   "id": "25467ff7",
   "metadata": {},
   "source": [
    "# Regression Metrics\n",
    "Print the R-squared score of your final KNN regressor."
   ]
  },
  {
   "cell_type": "code",
   "execution_count": 23,
   "id": "f1a24657",
   "metadata": {},
   "outputs": [
    {
     "name": "stdout",
     "output_type": "stream",
     "text": [
      "R-squared score of the final KNN regressor = 0.9999993982600149\n"
     ]
    }
   ],
   "source": [
    "y_pred = best_model.predict(X_test)\n",
    "\n",
    "from sklearn.metrics import r2_score\n",
    "print('R-squared score of the final KNN regressor = ' + str(r2_score(y_test,y_pred)))"
   ]
  },
  {
   "cell_type": "markdown",
   "id": "409d8a45",
   "metadata": {},
   "source": [
    "# 7. Challenge Yourself (Optional)\n",
    "Repeat step 6 for a different regression modelling technique.\n"
   ]
  },
  {
   "cell_type": "code",
   "execution_count": 24,
   "id": "309e66ea",
   "metadata": {},
   "outputs": [
    {
     "name": "stdout",
     "output_type": "stream",
     "text": [
      "R-squared score of the Linear regressor = 1.0\n",
      "Accuracy with Linear regression =  1.0\n"
     ]
    }
   ],
   "source": [
    "#Using Linear Regression\n",
    "\n",
    "from sklearn.linear_model import LinearRegression\n",
    "modelLR=LinearRegression()\n",
    "modelLR.fit(X_train, y_train)\n",
    "    \n",
    "y_pred=modelLR.predict(X_test)\n",
    "    \n",
    "score=modelLR.score(X_test,y_test)\n",
    "\n",
    "print('R-squared score of the Linear regressor = ' + str(r2_score(y_test,y_pred)))\n",
    "print('Accuracy with Linear regression = ', score)"
   ]
  }
 ],
 "metadata": {
  "kernelspec": {
   "display_name": "Python 3 (ipykernel)",
   "language": "python",
   "name": "python3"
  },
  "language_info": {
   "codemirror_mode": {
    "name": "ipython",
    "version": 3
   },
   "file_extension": ".py",
   "mimetype": "text/x-python",
   "name": "python",
   "nbconvert_exporter": "python",
   "pygments_lexer": "ipython3",
   "version": "3.9.13"
  }
 },
 "nbformat": 4,
 "nbformat_minor": 5
}
