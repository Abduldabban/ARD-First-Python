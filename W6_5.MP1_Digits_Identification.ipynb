{
 "cells": [
  {
   "cell_type": "markdown",
   "id": "493d97ed",
   "metadata": {},
   "source": [
    "# Week 6, Section 5, Mini Project 1, Digits Identification"
   ]
  },
  {
   "attachments": {},
   "cell_type": "markdown",
   "id": "f12be83a",
   "metadata": {},
   "source": [
    "# 1. Download the Dataset\n",
    "\n",
    "The Scikit-Learn library offers a way to download the MNIST dataset using these lines of code:\n",
    "\n",
    "from keras.datasets import mnist \\\n",
    "(x_train, y_train), (x_test, y_test) = mnist.load_data()"
   ]
  },
  {
   "cell_type": "code",
   "execution_count": 1,
   "id": "44fe311e",
   "metadata": {},
   "outputs": [],
   "source": [
    "# download the data and split training from testing data\n",
    "\n",
    "from keras.datasets import mnist\n",
    "(x_train, y_train), (x_test, y_test) = mnist.load_data()"
   ]
  },
  {
   "cell_type": "markdown",
   "id": "d2af64dd",
   "metadata": {},
   "source": [
    "# 2. Reshaping the Images\n",
    "Prepare your dataset. \\\n",
    "Write these two lines of code to somewhat normalize your dataset: \n",
    "\n",
    "x_train = x_train.reshape(60000, 28, 28, 1)/255 \\\n",
    "x_test = x_test.reshape(10000, 28, 28, 1)/255"
   ]
  },
  {
   "cell_type": "code",
   "execution_count": 2,
   "id": "80bb482e",
   "metadata": {},
   "outputs": [],
   "source": [
    "# notmalizing the data. \n",
    "\n",
    "x_train = x_train.reshape(60000, 28, 28, 1)/255\n",
    "x_test = x_test.reshape(10000, 28, 28, 1)/255"
   ]
  },
  {
   "cell_type": "markdown",
   "id": "70043085",
   "metadata": {},
   "source": [
    "# 3. Define Your Convolutional Neural Network\n",
    "Build the CNN with the following layers: \\\n",
    "The input layer is a 2D convolutional layer with the following parameters: \\\n",
    "28 units;\n",
    "convolution window size: 3 x 3; and\n",
    "input size: 28x28.\n",
    "Activation function: ReLU\n",
    "\n",
    "The first hidden layer is a 2D max pooling layer with a pool size of 2x2.\n",
    "\n",
    "The second hidden layer is a flattening layer.\n",
    "\n",
    "The third hidden layer is a fully connected layer with:\n",
    "128 units and activation function: ReLU\n",
    "\n",
    "The output layer is a fully connected layer with:\n",
    "10 units and activation function: softmax."
   ]
  },
  {
   "cell_type": "code",
   "execution_count": 3,
   "id": "80812a04",
   "metadata": {},
   "outputs": [],
   "source": [
    "from keras.models import Sequential\n",
    "\n",
    "model=Sequential()"
   ]
  },
  {
   "cell_type": "code",
   "execution_count": 4,
   "id": "bc0cd59f",
   "metadata": {},
   "outputs": [],
   "source": [
    "from keras.layers import Conv2D\n",
    "\n",
    "model.add(Conv2D(28, (3, 3), input_shape=(28, 28, 1), activation='relu'))"
   ]
  },
  {
   "cell_type": "code",
   "execution_count": 5,
   "id": "f8047f43",
   "metadata": {},
   "outputs": [],
   "source": [
    "from keras.layers import MaxPooling2D\n",
    "model.add(MaxPooling2D(pool_size=(2, 2)))"
   ]
  },
  {
   "cell_type": "code",
   "execution_count": 6,
   "id": "f7d0eca9",
   "metadata": {},
   "outputs": [],
   "source": [
    "from keras.layers import Flatten\n",
    "model.add(Flatten())"
   ]
  },
  {
   "cell_type": "code",
   "execution_count": 7,
   "id": "a214d439",
   "metadata": {},
   "outputs": [],
   "source": [
    "from keras.layers import Dense\n",
    "model.add(Dense(units=128, activation='relu'))\n",
    "model.add(Dense(units=10, activation='softmax'))"
   ]
  },
  {
   "cell_type": "markdown",
   "id": "a8c04d18",
   "metadata": {},
   "source": [
    "# 4. Choosing Hyperparameters\n",
    "Build the network using the following parameters: \\\n",
    "Optimizer: Adam \\\n",
    "Loss function: sparse_categorical_crossentropy \\\n",
    "Metrics: accuracy \\\n",
    "Epochs: 100"
   ]
  },
  {
   "cell_type": "code",
   "execution_count": 8,
   "id": "91aa65c9",
   "metadata": {},
   "outputs": [],
   "source": [
    "model.compile(optimizer='adam', loss='sparse_categorical_crossentropy', metrics=['accuracy'])"
   ]
  },
  {
   "cell_type": "code",
   "execution_count": 9,
   "id": "a491881c",
   "metadata": {},
   "outputs": [
    {
     "name": "stdout",
     "output_type": "stream",
     "text": [
      "Epoch 1/5\n",
      "1875/1875 [==============================] - 34s 18ms/step - loss: 0.1514 - accuracy: 0.9543\n",
      "Epoch 2/5\n",
      "1875/1875 [==============================] - 34s 18ms/step - loss: 0.0520 - accuracy: 0.9843\n",
      "Epoch 3/5\n",
      "1875/1875 [==============================] - 35s 18ms/step - loss: 0.0336 - accuracy: 0.9898\n",
      "Epoch 4/5\n",
      "1875/1875 [==============================] - 36s 19ms/step - loss: 0.0222 - accuracy: 0.9929\n",
      "Epoch 5/5\n",
      "1875/1875 [==============================] - 34s 18ms/step - loss: 0.0157 - accuracy: 0.9950\n"
     ]
    },
    {
     "data": {
      "text/plain": [
       "<keras.callbacks.History at 0x258549383a0>"
      ]
     },
     "execution_count": 9,
     "metadata": {},
     "output_type": "execute_result"
    }
   ],
   "source": [
    "model.fit(x_train, y_train, epochs = 5) # reduced the number of epochs to 5 to minimize the training time"
   ]
  },
  {
   "cell_type": "code",
   "execution_count": 10,
   "id": "89d47994",
   "metadata": {},
   "outputs": [
    {
     "name": "stdout",
     "output_type": "stream",
     "text": [
      "313/313 [==============================] - 2s 5ms/step - loss: 0.0384 - accuracy: 0.9881\n"
     ]
    }
   ],
   "source": [
    "loss, accuracy = model.evaluate(x_test, y_test)"
   ]
  },
  {
   "cell_type": "code",
   "execution_count": null,
   "id": "e9b98282",
   "metadata": {},
   "outputs": [],
   "source": []
  }
 ],
 "metadata": {
  "kernelspec": {
   "display_name": "Python 3 (ipykernel)",
   "language": "python",
   "name": "python3"
  },
  "language_info": {
   "codemirror_mode": {
    "name": "ipython",
    "version": 3
   },
   "file_extension": ".py",
   "mimetype": "text/x-python",
   "name": "python",
   "nbconvert_exporter": "python",
   "pygments_lexer": "ipython3",
   "version": "3.9.13"
  }
 },
 "nbformat": 4,
 "nbformat_minor": 5
}
