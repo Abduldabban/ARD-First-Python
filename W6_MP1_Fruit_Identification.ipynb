{
 "cells": [
  {
   "cell_type": "markdown",
   "id": "f5847801",
   "metadata": {},
   "source": [
    "# Week 6, Mini Project 1, Fruit Identification"
   ]
  },
  {
   "cell_type": "code",
   "execution_count": 1,
   "id": "e2756b67",
   "metadata": {},
   "outputs": [],
   "source": [
    "# Ignore warnings\n",
    "import warnings\n",
    "warnings.filterwarnings('ignore')"
   ]
  },
  {
   "cell_type": "code",
   "execution_count": 2,
   "id": "a31825fc",
   "metadata": {},
   "outputs": [],
   "source": [
    "# Importing the Keras libraries and packages\n",
    "from keras.models import Sequential\n",
    "\n",
    "from keras.layers import Conv2D\n",
    "from keras.layers import MaxPooling2D\n",
    "from keras.layers import Flatten\n",
    "\n",
    "from keras.layers import Dense\n",
    "from keras.layers import Dropout"
   ]
  },
  {
   "cell_type": "markdown",
   "id": "865bec30",
   "metadata": {},
   "source": [
    "# 1. Download the Dataset\n",
    "Download the fataset from the following link:\n",
    "https://www.kaggle.com/moltean/fruits"
   ]
  },
  {
   "cell_type": "markdown",
   "id": "d2be8c86",
   "metadata": {},
   "source": [
    "# 2. Reading the Dataset\n",
    "Read and prepare your dataset. \\\n",
    "Divide your dataset into training and testing sets: \\\n",
    "70% training set. \\\n",
    "30% testing set."
   ]
  },
  {
   "cell_type": "code",
   "execution_count": 3,
   "id": "0281ac8c",
   "metadata": {},
   "outputs": [],
   "source": [
    "from keras.preprocessing.image import ImageDataGenerator\n",
    "\n",
    "train_datagen = ImageDataGenerator(rescale = 1./255,\n",
    "                                   shear_range = 0.2,\n",
    "                                   zoom_range = 0.2,\n",
    "                                   horizontal_flip = True,)\n",
    "# increase the number of training images by making changes on the images\n",
    "\n",
    "test_datagen = ImageDataGenerator(rescale = 1./255,)"
   ]
  },
  {
   "cell_type": "code",
   "execution_count": 4,
   "id": "04022ec8",
   "metadata": {},
   "outputs": [
    {
     "name": "stdout",
     "output_type": "stream",
     "text": [
      "Found 67692 images belonging to 131 classes.\n"
     ]
    }
   ],
   "source": [
    "# Locate and assign Training Set\n",
    "training_set = train_datagen.flow_from_directory('C:/Users/abdul/OneDrive/ARD/Brain/Western/TECH6303 Python for Machine Learning/Week6/MP1/fruits-360_dataset/fruits-360/Training',\n",
    "                                                 target_size = (100, 100),\n",
    "                                                 batch_size = 32,\n",
    "                                                 class_mode = 'categorical',\n",
    "                                                 shuffle = True)"
   ]
  },
  {
   "cell_type": "code",
   "execution_count": 5,
   "id": "ca4478f0",
   "metadata": {},
   "outputs": [
    {
     "name": "stdout",
     "output_type": "stream",
     "text": [
      "Found 22688 images belonging to 131 classes.\n"
     ]
    }
   ],
   "source": [
    "# Locate and assign Test Set\n",
    "test_set = test_datagen.flow_from_directory('C:/Users/abdul/OneDrive/ARD/Brain/Western/TECH6303 Python for Machine Learning/Week6/MP1/fruits-360_dataset/fruits-360/Test',\n",
    "                                            target_size = (100, 100),\n",
    "                                            batch_size = 32,\n",
    "                                            class_mode = 'categorical',\n",
    "                                            shuffle = False) # didn't shuffle the data so we know the order of test data to compare predicted with actual"
   ]
  },
  {
   "cell_type": "markdown",
   "id": "90ae62db",
   "metadata": {},
   "source": [
    "# 3. Define Your Convolutional Neural Network\n",
    "Define a CNN with the following layers: \\\n",
    "The input layer is a 2-D convolutional layer with the following parameters: \\\n",
    "16 units; \\\n",
    "convolution window size: 2x2; \\\n",
    "activation function: ReLU; and \\\n",
    "input shape: 100x100x3 \n",
    "\n",
    "Define a 2D max pooling layer with pool size of 2x2.\n",
    "\n",
    "Define a 2D convolutional layer with the following parameters: \\\n",
    "32 units; \\\n",
    "convolution window size: 2x2; \\\n",
    "activation function: ReLU; and \n",
    "\n",
    "a 2-D max pooling layer with pool size of 2x2.\n",
    "\n",
    "Define two 2-D convolutional layers, each with the following parameters: \\\n",
    "64 units; \\\n",
    "convolution window size: 2x2; \\\n",
    "activation function: ReLU; \n",
    "\n",
    "a 2D max pooling layer with pool size of 2x2;\n",
    "\n",
    "a dropout layer with 0.3 rate; and\n",
    "\n",
    "A flattening layer.\n",
    "\n",
    "Define a fully-connected layer with: \\\n",
    "150 units; \\\n",
    "activation function: ReLU; and\n",
    "\n",
    "a Dropout layer with a 0.4 rate.\n",
    "\n",
    "The output layer is a fully connected layer with: \\\n",
    "81 units and \\\n",
    "activation function: softmax."
   ]
  },
  {
   "cell_type": "code",
   "execution_count": 6,
   "id": "4fe96786",
   "metadata": {},
   "outputs": [],
   "source": [
    "# Initialising the classifier\n",
    "classifier = Sequential()\n",
    "\n",
    "# Step 1 - Convolution\n",
    "classifier.add(Conv2D(16, (2, 2), input_shape = (100, 100, 3), activation = 'relu'))\n",
    "\n",
    "# Step 2 - Pooling\n",
    "classifier.add(MaxPooling2D(pool_size = (2, 2)))\n",
    "\n",
    "# Step 3 - Convolution\n",
    "classifier.add(Conv2D(32, (2, 2), activation = 'relu'))\n",
    "\n",
    "# Step 4 - Pooling\n",
    "classifier.add(MaxPooling2D(pool_size = (2, 2)))\n",
    "\n",
    "# Step 5 - Convolution\n",
    "classifier.add(Conv2D(64, (2, 2), activation = 'relu'))\n",
    "classifier.add(Conv2D(64, (2, 2), activation = 'relu'))\n",
    "\n",
    "# Step 6 - Pooling\n",
    "classifier.add(MaxPooling2D(pool_size = (2, 2)))\n",
    "\n",
    "# Step 7 - Add a dropout layer\n",
    "classifier.add(Dropout(0.3))\n",
    "\n",
    "# Step 8 - Flattening\n",
    "classifier.add(Flatten())\n",
    "\n",
    "# Step 9 - Full connection\n",
    "classifier.add(Dense(units = 150, activation = 'relu'))\n",
    "\n",
    "# Step 10 - Add a dropout layer\n",
    "classifier.add(Dropout(0.4))\n",
    "\n",
    "# Step 11 - Output as full connection\n",
    "classifier.add(Dense(units = 131, activation = 'softmax'))"
   ]
  },
  {
   "cell_type": "code",
   "execution_count": 7,
   "id": "46edd74b",
   "metadata": {},
   "outputs": [
    {
     "name": "stdout",
     "output_type": "stream",
     "text": [
      "Model: \"sequential\"\n",
      "_________________________________________________________________\n",
      " Layer (type)                Output Shape              Param #   \n",
      "=================================================================\n",
      " conv2d (Conv2D)             (None, 99, 99, 16)        208       \n",
      "                                                                 \n",
      " max_pooling2d (MaxPooling2D  (None, 49, 49, 16)       0         \n",
      " )                                                               \n",
      "                                                                 \n",
      " conv2d_1 (Conv2D)           (None, 48, 48, 32)        2080      \n",
      "                                                                 \n",
      " max_pooling2d_1 (MaxPooling  (None, 24, 24, 32)       0         \n",
      " 2D)                                                             \n",
      "                                                                 \n",
      " conv2d_2 (Conv2D)           (None, 23, 23, 64)        8256      \n",
      "                                                                 \n",
      " conv2d_3 (Conv2D)           (None, 22, 22, 64)        16448     \n",
      "                                                                 \n",
      " max_pooling2d_2 (MaxPooling  (None, 11, 11, 64)       0         \n",
      " 2D)                                                             \n",
      "                                                                 \n",
      " dropout (Dropout)           (None, 11, 11, 64)        0         \n",
      "                                                                 \n",
      " flatten (Flatten)           (None, 7744)              0         \n",
      "                                                                 \n",
      " dense (Dense)               (None, 150)               1161750   \n",
      "                                                                 \n",
      " dropout_1 (Dropout)         (None, 150)               0         \n",
      "                                                                 \n",
      " dense_1 (Dense)             (None, 131)               19781     \n",
      "                                                                 \n",
      "=================================================================\n",
      "Total params: 1,208,523\n",
      "Trainable params: 1,208,523\n",
      "Non-trainable params: 0\n",
      "_________________________________________________________________\n"
     ]
    }
   ],
   "source": [
    "classifier.summary()"
   ]
  },
  {
   "cell_type": "markdown",
   "id": "f774789e",
   "metadata": {},
   "source": [
    "# 4. Choosing Hyperparameters\n",
    "Build the network using the following parameters: \\\n",
    "Optimizer: rmsprop \\\n",
    "Loss function: categorical_crossentropy \\\n",
    "Metrics: accuracy \\\n",
    "Batch size: 32 \\\n",
    "Epochs: 30"
   ]
  },
  {
   "cell_type": "code",
   "execution_count": 8,
   "id": "92b35554",
   "metadata": {},
   "outputs": [],
   "source": [
    "# Compiling the CNN\n",
    "classifier.compile(optimizer = 'rmsprop', loss = 'categorical_crossentropy', metrics = ['accuracy'])"
   ]
  },
  {
   "cell_type": "markdown",
   "id": "2f94333c",
   "metadata": {},
   "source": [
    "# 5. Training Network\n",
    "Use Keras to implement the network described and train your data. \\\n",
    "Classification metrics: \\\n",
    "Print the accuracy measure on the testing data. \\\n",
    "Print the confusion matrix of the testing data."
   ]
  },
  {
   "cell_type": "code",
   "execution_count": 9,
   "id": "84a2e264",
   "metadata": {},
   "outputs": [
    {
     "name": "stdout",
     "output_type": "stream",
     "text": [
      "Epoch 1/10\n",
      "1000/1000 [==============================] - 938s 928ms/step - loss: 2.2758 - accuracy: 0.3919 - val_loss: 0.5704 - val_accuracy: 0.7734\n",
      "Epoch 2/10\n",
      "1000/1000 [==============================] - 1106s 1s/step - loss: 0.6394 - accuracy: 0.7920 - val_loss: 0.5353 - val_accuracy: 0.7956\n",
      "Epoch 3/10\n",
      "1000/1000 [==============================] - 1176s 1s/step - loss: 0.3508 - accuracy: 0.8853 - val_loss: 0.3429 - val_accuracy: 0.9291\n",
      "Epoch 4/10\n",
      "1000/1000 [==============================] - 1758s 2s/step - loss: 0.2569 - accuracy: 0.9153 - val_loss: 0.6407 - val_accuracy: 0.8428\n",
      "Epoch 5/10\n",
      "1000/1000 [==============================] - 48837s 49s/step - loss: 0.2018 - accuracy: 0.9358 - val_loss: 0.2613 - val_accuracy: 0.9297\n",
      "Epoch 6/10\n",
      "1000/1000 [==============================] - 588s 588ms/step - loss: 0.1741 - accuracy: 0.9437 - val_loss: 0.3035 - val_accuracy: 0.9241\n",
      "Epoch 7/10\n",
      "1000/1000 [==============================] - 873s 874ms/step - loss: 0.1458 - accuracy: 0.9534 - val_loss: 0.2589 - val_accuracy: 0.9075\n",
      "Epoch 8/10\n",
      "1000/1000 [==============================] - 981s 981ms/step - loss: 0.1340 - accuracy: 0.9589 - val_loss: 0.2903 - val_accuracy: 0.9466\n",
      "Epoch 9/10\n",
      "1000/1000 [==============================] - 12864s 13s/step - loss: 0.1234 - accuracy: 0.9616 - val_loss: 0.2338 - val_accuracy: 0.9719\n",
      "Epoch 10/10\n",
      "1000/1000 [==============================] - 513s 513ms/step - loss: 0.1243 - accuracy: 0.9609 - val_loss: 0.2138 - val_accuracy: 0.9513\n"
     ]
    }
   ],
   "source": [
    "# train the model\n",
    "cnn = classifier.fit_generator(training_set,\n",
    "                         steps_per_epoch = 1000,\n",
    "                         epochs = 10, # replaced 30 with 10 to reduce training time\n",
    "                         validation_data = test_set,\n",
    "                         validation_steps = 100)"
   ]
  },
  {
   "cell_type": "code",
   "execution_count": 12,
   "id": "9a86e775",
   "metadata": {},
   "outputs": [
    {
     "data": {
      "text/plain": [
       "{'loss': [2.275779962539673,\n",
       "  0.6394244432449341,\n",
       "  0.3508237600326538,\n",
       "  0.2568996250629425,\n",
       "  0.2018306404352188,\n",
       "  0.17409782111644745,\n",
       "  0.14576667547225952,\n",
       "  0.1340436190366745,\n",
       "  0.12343282252550125,\n",
       "  0.12428957968950272],\n",
       " 'accuracy': [0.3919374942779541,\n",
       "  0.7920262813568115,\n",
       "  0.8853124976158142,\n",
       "  0.9152908325195312,\n",
       "  0.9358036518096924,\n",
       "  0.9437460899353027,\n",
       "  0.9533771276473999,\n",
       "  0.9589062333106995,\n",
       "  0.9615625143051147,\n",
       "  0.9609062671661377],\n",
       " 'val_loss': [0.5703830122947693,\n",
       "  0.5352583527565002,\n",
       "  0.34285011887550354,\n",
       "  0.6407280564308167,\n",
       "  0.2612570822238922,\n",
       "  0.3035414516925812,\n",
       "  0.2589482069015503,\n",
       "  0.29027560353279114,\n",
       "  0.23375606536865234,\n",
       "  0.21377231180667877],\n",
       " 'val_accuracy': [0.7734375,\n",
       "  0.7956249713897705,\n",
       "  0.9290624856948853,\n",
       "  0.8428124785423279,\n",
       "  0.9296875,\n",
       "  0.9240624904632568,\n",
       "  0.9075000286102295,\n",
       "  0.9465625286102295,\n",
       "  0.971875011920929,\n",
       "  0.9512500166893005]}"
      ]
     },
     "execution_count": 12,
     "metadata": {},
     "output_type": "execute_result"
    }
   ],
   "source": [
    "cnn.history"
   ]
  },
  {
   "cell_type": "code",
   "execution_count": 13,
   "id": "92f7e3dd",
   "metadata": {},
   "outputs": [
    {
     "data": {
      "text/plain": [
       "<function matplotlib.pyplot.show(close=None, block=None)>"
      ]
     },
     "execution_count": 13,
     "metadata": {},
     "output_type": "execute_result"
    },
    {
     "data": {
      "image/png": "[encoded data removed]",
      "text/plain": [
       "<Figure size 640x480 with 1 Axes>"
      ]
     },
     "metadata": {},
     "output_type": "display_data"
    }
   ],
   "source": [
    "import matplotlib.pyplot as plt\n",
    "\n",
    "plt.plot(cnn.history['accuracy'], label = 'accuracy')\n",
    "plt.title('Accuracy Graph')\n",
    "plt.xlabel('number of epochs')\n",
    "plt.ylabel('accuracy')\n",
    "plt.legend()\n",
    "plt.grid\n",
    "plt.show"
   ]
  },
  {
   "cell_type": "code",
   "execution_count": 18,
   "id": "82e9374a",
   "metadata": {},
   "outputs": [],
   "source": [
    "test_labels = test_set.labels"
   ]
  },
  {
   "cell_type": "code",
   "execution_count": 19,
   "id": "4e0add9c",
   "metadata": {},
   "outputs": [
    {
     "name": "stdout",
     "output_type": "stream",
     "text": [
      "709/709 [==============================] - 423s 597ms/step\n"
     ]
    }
   ],
   "source": [
    "prediction = classifier.predict(test_set)"
   ]
  },
  {
   "cell_type": "code",
   "execution_count": 20,
   "id": "9145c85b",
   "metadata": {},
   "outputs": [],
   "source": [
    "import numpy as np\n",
    "predict_labels = np.argmax(prediction, axis = -1) #taking the highest probablity, which is the resulting fruit class"
   ]
  },
  {
   "cell_type": "code",
   "execution_count": 21,
   "id": "a642d99b",
   "metadata": {},
   "outputs": [
    {
     "ename": "NameError",
     "evalue": "name 'np_set_printoptions' is not defined",
     "output_type": "error",
     "traceback": [
      "\u001b[1;31m---------------------------------------------------------------------------\u001b[0m",
      "\u001b[1;31mNameError\u001b[0m                                 Traceback (most recent call last)",
      "\u001b[1;32m~\\AppData\\Local\\Temp\\ipykernel_23536\\1478463148.py\u001b[0m in \u001b[0;36m<module>\u001b[1;34m\u001b[0m\n\u001b[0;32m      2\u001b[0m \u001b[1;33m\u001b[0m\u001b[0m\n\u001b[0;32m      3\u001b[0m \u001b[1;32mfrom\u001b[0m \u001b[0msklearn\u001b[0m\u001b[1;33m.\u001b[0m\u001b[0mmetrics\u001b[0m \u001b[1;32mimport\u001b[0m \u001b[0mconfusion_matrix\u001b[0m\u001b[1;33m\u001b[0m\u001b[1;33m\u001b[0m\u001b[0m\n\u001b[1;32m----> 4\u001b[1;33m \u001b[0mnp_set_printoptions\u001b[0m\u001b[1;33m(\u001b[0m\u001b[0mthreshold\u001b[0m \u001b[1;33m=\u001b[0m \u001b[0mnp\u001b[0m\u001b[1;33m.\u001b[0m\u001b[0minf\u001b[0m\u001b[1;33m)\u001b[0m\u001b[1;33m\u001b[0m\u001b[1;33m\u001b[0m\u001b[0m\n\u001b[0m\u001b[0;32m      5\u001b[0m \u001b[1;33m\u001b[0m\u001b[0m\n\u001b[0;32m      6\u001b[0m \u001b[0mprint\u001b[0m\u001b[1;33m(\u001b[0m\u001b[1;34m'Confusion Matrix: \\n'\u001b[0m\u001b[1;33m,\u001b[0m \u001b[0mconfusion_matrix\u001b[0m\u001b[1;33m(\u001b[0m\u001b[0mtest_labels\u001b[0m\u001b[1;33m,\u001b[0m \u001b[0mpredict_labels\u001b[0m\u001b[1;33m)\u001b[0m\u001b[1;33m)\u001b[0m\u001b[1;33m\u001b[0m\u001b[1;33m\u001b[0m\u001b[0m\n",
      "\u001b[1;31mNameError\u001b[0m: name 'np_set_printoptions' is not defined"
     ]
    }
   ],
   "source": [
    "# use a print array to plot the Confusion Matrix\n",
    "\n",
    "from sklearn.metrics import confusion_matrix\n",
    "np_set_printoptions(threshold = np.inf)\n",
    "\n",
    "print('Confusion Matrix: \\n', confusion_matrix(test_labels, predict_labels))"
   ]
  },
  {
   "cell_type": "code",
   "execution_count": null,
   "id": "9a66dc9c",
   "metadata": {},
   "outputs": [],
   "source": []
  }
 ],
 "metadata": {
  "kernelspec": {
   "display_name": "Python 3 (ipykernel)",
   "language": "python",
   "name": "python3"
  },
  "language_info": {
   "codemirror_mode": {
    "name": "ipython",
    "version": 3
   },
   "file_extension": ".py",
   "mimetype": "text/x-python",
   "name": "python",
   "nbconvert_exporter": "python",
   "pygments_lexer": "ipython3",
   "version": "3.9.13"
  }
 },
 "nbformat": 4,
 "nbformat_minor": 5
}
